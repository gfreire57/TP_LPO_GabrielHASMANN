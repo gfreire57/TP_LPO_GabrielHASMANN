{
 "cells": [
  {
   "cell_type": "code",
   "execution_count": 15,
   "metadata": {},
   "outputs": [],
   "source": [
    "from TP1classes import *\n",
    "\n",
    "# def trouverDevise(devise_souhaite): #trouve l'objet qui a le nom souhaité\n",
    "#     for i in \n",
    "\n",
    "currencies = []\n",
    "currencies.append(Devise(\"Euro\", \"€\", \"EUR\", \"Union Européenne\", 1))\n",
    "currencies.append( Devise(\"Real\", \"R$\", \"BRL\", \"Brésil\", 5.4899) )\n",
    "currencies.append( Devise(\"Dolar\", \"$\", \"USS\", \"USA\", 1.0897) )\n",
    "currencies.append( Devise(\"Franc\", \"F\", \"CHF\", \"Swiss\", 1.0080) )"
   ]
  },
  {
   "cell_type": "code",
   "execution_count": 18,
   "metadata": {},
   "outputs": [
    {
     "name": "stdout",
     "output_type": "stream",
     "text": [
      "Choose a currency in the list below: \n",
      "*Euro\n",
      "*Real\n",
      "*Dolar\n",
      "*Franc\n"
     ]
    }
   ],
   "source": [
    "# print(\"Choose a currency in the list below: \")\n",
    "# for i in currencies:\n",
    "#     i.afficherNom()\n",
    "# choisi = str(input(\"-> \"))\n",
    "# for i in currencies:\n",
    "#     if choisi == i.nom:\n",
    "#         deviseObj = i\n",
    "#         break\n"
   ]
  },
  {
   "cell_type": "code",
   "execution_count": 21,
   "metadata": {},
   "outputs": [],
   "source": [
    "def getCurrency(currency):\n",
    "    try:\n",
    "        for i in currencies:\n",
    "            if i.nom == currency:\n",
    "                return i\n",
    "            else:\n",
    "                print(\"Currency not found.\")\n",
    "    except:\n",
    "        print(\"Error!\")"
   ]
  },
  {
   "cell_type": "code",
   "execution_count": 24,
   "metadata": {},
   "outputs": [
    {
     "name": "stdout",
     "output_type": "stream",
     "text": [
      "Choose a currency in the list below: \n",
      "*Euro\n",
      "*Real\n",
      "*Dolar\n",
      "*Franc\n",
      "Currency not found.\n"
     ]
    }
   ],
   "source": [
    "print(\"Choose a currency in the list below: \")\n",
    "for i in currencies: i.afficherNom()\n",
    "choisi = str(input(\"-> \"))\n",
    "deviseObj = getCurrency(choisi)"
   ]
  },
  {
   "cell_type": "code",
   "execution_count": 25,
   "metadata": {},
   "outputs": [
    {
     "name": "stdout",
     "output_type": "stream",
     "text": [
      "Devise:\n",
      "* Nom: Real\n",
      "* Symbole: R$\n",
      "* Code: BRL\n",
      "* Pays: Brésil\n",
      "* Taux: 5.4899\n"
     ]
    }
   ],
   "source": [
    "deviseObj.afficher()"
   ]
  },
  {
   "cell_type": "code",
   "execution_count": null,
   "metadata": {},
   "outputs": [],
   "source": []
  }
 ],
 "metadata": {
  "interpreter": {
   "hash": "a53ceabf47d28d2bba89a71776e28108f0d60ebbb5215aa12963357d3d09d2a2"
  },
  "kernelspec": {
   "display_name": "Python 3.8.8 ('base')",
   "language": "python",
   "name": "python3"
  },
  "language_info": {
   "codemirror_mode": {
    "name": "ipython",
    "version": 3
   },
   "file_extension": ".py",
   "mimetype": "text/x-python",
   "name": "python",
   "nbconvert_exporter": "python",
   "pygments_lexer": "ipython3",
   "version": "3.8.8"
  },
  "orig_nbformat": 4
 },
 "nbformat": 4,
 "nbformat_minor": 2
}
